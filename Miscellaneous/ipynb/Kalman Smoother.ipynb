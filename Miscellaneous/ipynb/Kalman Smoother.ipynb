{
 "cells": [
  {
   "cell_type": "markdown",
   "metadata": {},
   "source": [
    "The following notes summarize parts of the contents in the paper \"Derivation of an EM algorithm for constrained and unconstrained multivarite autoregressive state-space (MARSS) models\" [link](http://faculty.washington.edu/eeholmes/Files/Holmes2010.pdf)\n",
    "\n",
    "------\n",
    "\n",
    "A Kalman filter/smoother is an optimal estimator -- i.e. infers parameters of interest from indirect, inaccurate and uncertain observations. It is recursive so that new measurements can be processed as they arrive. If all noise is Gaussian, the Kalman filter minimises the mean square error of the estimated parameters.\n",
    "\n",
    "The Kalman Smoother calculate the expectations and variances of state variables.  Given a state model:\n",
    "\n",
    "\\begin{align}\n",
    "x_t  &=  Bx_{t-1} + u + w_t \\\\\n",
    "y_t  &=  zx_t + a + v_t\n",
    "\\end{align}\n",
    "\n",
    "Denote the conditional expection and variance of $x_t$ given observation $y_1^\\tau$ as: $x_t^\\tau = E[x_t|y_1^\\tau], v_t^\\tau = Var[x_t|y_1^\\tau]$. The classical Kalman Filter will generate the forward estimation of $x_t$ conditioned on data up to time $t$: $x_t^{t-1}, x_t^t, V_t^{t-1}, V_t^t$. By contrast, the Kalman Smoother will generate the posterior estimation of $x_t$ based on the complete observation data: $x_t^T, V_t^T$.\n",
    "\n",
    "###### The forward recursions: Kalman Filter\n",
    "\n",
    "\\begin{align}\n",
    "&x_t^{t-1} = B_tx_{t-1}^{t-1} + u_t \\\\\n",
    "&x_t^t = x_t^{t-1} + K_t(y_t - Z_tx_t^{t-1} - a_t) \\\\\n",
    "&V_t^{t-1} = B_tV_{t-1}^{t-1}B_t' + Q_t \\\\\n",
    "&V_t^t = (I - K_tZ_t)V_t^{t-1} \\\\\n",
    "&K_t = V_t^{t-1}Z_t'(Z_tV_t^{t-1}Z_t' + H_tR_tH_t')^{-1}\n",
    "\\end{align}\n",
    "\n",
    "###### The backward recursions: Kalman Smoother\n",
    "\n",
    "######Expectations involving $Y_t$\n",
    "\n",
    "The classic Kalman Smoother is an algorithm to compute these estimations conditioned on no missing values in $y$.\n",
    "\n",
    "\\begin{align}\n",
    "&E[Y_t|Y_t = y_t] = y_t \\\\\n",
    "&E[Y_tY_t'|Y_t = y_t] = y_ty_t'  \\\\\n",
    "&E[Y_tX_t'|Y_t = y_t] = y_t{x_t^T}' \\\\\n",
    "&E[Y_tX_{t-1}'|Y_t = y_t] = y_tE[X_{t-1}'] = y_t{x_{t-1}^T}'\n",
    "\\end{align}\n",
    "\n"
   ]
  }
 ],
 "metadata": {
  "kernelspec": {
   "display_name": "Python 2",
   "language": "python",
   "name": "python2"
  },
  "language_info": {
   "codemirror_mode": {
    "name": "ipython",
    "version": 2
   },
   "file_extension": ".py",
   "mimetype": "text/x-python",
   "name": "python",
   "nbconvert_exporter": "python",
   "pygments_lexer": "ipython2",
   "version": "2.7.9"
  }
 },
 "nbformat": 4,
 "nbformat_minor": 0
}

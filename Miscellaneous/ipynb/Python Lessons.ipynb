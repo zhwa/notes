{
 "cells": [
  {
   "cell_type": "markdown",
   "metadata": {},
   "source": [
    "#### with"
   ]
  },
  {
   "cell_type": "code",
   "execution_count": null,
   "metadata": {
    "collapsed": false
   },
   "outputs": [],
   "source": [
    "with open(training_set,'r') as f:\n",
    "    for line in f:\n",
    "        line=line.strip()"
   ]
  },
  {
   "cell_type": "markdown",
   "metadata": {},
   "source": [
    "Using \"with\", it's no longer necessary to close the file. \"with\" will do it for you.  In essence, it has the following scheme: automatically call the __enter__ method, and after \"some code\" automatically call the __exit__ method. In the above case, __enter__ == open and __exit__ == close."
   ]
  },
  {
   "cell_type": "code",
   "execution_count": null,
   "metadata": {
    "collapsed": false
   },
   "outputs": [],
   "source": [
    " class controlled_execution:\n",
    "        def __enter__(self):\n",
    "            set things up\n",
    "            return thing\n",
    "        def __exit__(self, type, value, traceback):\n",
    "            tear things down\n",
    "\n",
    "    with controlled_execution() as thing:\n",
    "         some code"
   ]
  },
  {
   "cell_type": "markdown",
   "metadata": {},
   "source": [
    "#### class consumes more time and resource to be created, but class itself is not a bottleneck [link](https://stackoverflow.com/questions/10072428/why-is-creating-a-class-in-python-so-much-slower-than-instantiating-a-class)"
   ]
  },
  {
   "cell_type": "code",
   "execution_count": null,
   "metadata": {
    "collapsed": false
   },
   "outputs": [],
   "source": [
    ">>> class Haha(object): pass\n",
    "...\n",
    ">>> sys.getsizeof(Haha)\n",
    "904\n",
    ">>> sys.getsizeof(Haha())\n",
    "64"
   ]
  },
  {
   "cell_type": "markdown",
   "metadata": {},
   "source": [
    "#### dictionary"
   ]
  },
  {
   "cell_type": "markdown",
   "metadata": {},
   "source": [
    "Dictionary itself is quite efficient (as a Hash table). But dictionary of dictionary could be a bottlenect, like \"ConditionalFreqDict\" in nltk:"
   ]
  },
  {
   "cell_type": "code",
   "execution_count": null,
   "metadata": {
    "collapsed": false
   },
   "outputs": [],
   "source": [
    "class FreqDist(dict):\n",
    "    def __init__(self, samples=None):\n",
    "\n",
    "        dict.__init__(self)\n",
    "        self._N = 0\n",
    "        self._reset_caches()\n",
    "        if samples:\n",
    "            self.update(samples)\n",
    "\n",
    "    def inc(self, sample, count=1):\n",
    "\n",
    "        if count == 0: return\n",
    "        self[sample] = self.get(sample,0) + count\n",
    "......\n",
    "\n",
    "class ConditionalFreqDist(defaultdict):\n",
    "    def __init__(self, cond_samples=None):\n",
    "        defaultdict.__init__(self, FreqDist)\n",
    "        if cond_samples:\n",
    "            for (cond, sample) in cond_samples:\n",
    "                self[cond].inc(sample)\n",
    "......"
   ]
  },
  {
   "cell_type": "markdown",
   "metadata": {},
   "source": [
    "The above configuration could be a potential bottle check. It wants to build a table to store conditional prob, prob[c][d]. prob itself is a dict, prob[c] returns a dict, and prob[c][d] is the value"
   ]
  },
  {
   "cell_type": "markdown",
   "metadata": {},
   "source": [
    "A naive but feasible way to replace dict of dict is use a larger single dict, with the key being a combination 'c_d'"
   ]
  },
  {
   "cell_type": "code",
   "execution_count": null,
   "metadata": {
    "collapsed": false
   },
   "outputs": [],
   "source": [
    "tag_bigram_dict={}\n",
    "\n",
    "def transition_count(tag_bigram_dict,tag_tag):\n",
    "    if not tag_tag in tag_bigram_dict:\n",
    "        tag_bigram_dict[tag_tag]=1\n",
    "    else:\n",
    "        tag_bigram_dict[tag_tag]+=1"
   ]
  },
  {
   "cell_type": "markdown",
   "metadata": {},
   "source": [
    "Another better way is using the 'defaultdict' class, which belongs to \"collection\", and has HIGH Performance.\n",
    "\n",
    "\n",
    "    >>> s = 'mississippi'\n",
    "    >>> d = defaultdict(int)\n",
    "    >>> for k in s:\n",
    "    ...     d[k] += 1\n",
    "    ...\n",
    "    >>> d.items()\n",
    "    [('i', 4), ('p', 2), ('s', 4), ('m', 1)]\n",
    "    \n",
    "    \n",
    "    >>> s = [('yellow', 1), ('blue', 2), ('yellow', 3), ('blue', 4), ('red', 1)]\n",
    "    >>> d = defaultdict(list)\n",
    "    >>> for k, v in s:\n",
    "    ...     d[k].append(v)\n",
    "    ...\n",
    "    >>> d.items()\n",
    "    [('blue', [2, 4]), ('red', [1]), ('yellow', [1, 3])]\n",
    "\n",
    "\n",
    "\n",
    "Usually, a Python dictionary throws a KeyError if you try to get an item with a key that is not currently in the dictionary. The defaultdict in contrast will simply create any items that you try to access (provided of course they do not exist yet). \n",
    "\n",
    "To create such a \"default\" item, it calls the function object(default_factory; it is initialized from the first argument to the constructor, if present, or to None, if absent) that you pass in the constructor . For the first example, default items are created using int(), which will return the integer object 0. For the second example, deafult items are created using list(), which returns a new empty list object."
   ]
  },
  {
   "cell_type": "code",
   "execution_count": null,
   "metadata": {
    "collapsed": false
   },
   "outputs": [],
   "source": [
    "self.w_ct = defaultdict(int)\n",
    "        self.tag_dict = defaultdict(set)\n",
    "        for l in open(train_file,'r'):\n",
    "            l = l.split()\n",
    "            l.append('END')\n",
    "            l.append('END')\n",
    "            for i in range(0,len(l)):\n",
    "                self.w_ct[l[i]] += 1\n",
    "        for l in open(train_file,'r'):\n",
    "            l = l.split()\n",
    "            l.append('END')\n",
    "            l.append('END')\n",
    "            self.sum_t_ct += len(l)\n",
    "            for i in range(0,len(l),2):\n",
    "                w = l[i]\n",
    "                if(self.w_ct[w]<5):\n",
    "                    w='UNKA'\n",
    "                self.t_ct[l[i+1]] += 1\n",
    "                self.wt_ct[(w,l[i+1])] += 1\n",
    "                self.tag_dict[w].add(l[i+1])\n",
    "                if(i>=1):\n",
    "                    self.bi_t_ct[(l[i-1],l[i+1])] += 1"
   ]
  },
  {
   "cell_type": "markdown",
   "metadata": {
    "collapsed": true
   },
   "source": [
    "####  IPython parallel"
   ]
  },
  {
   "cell_type": "code",
   "execution_count": 2,
   "metadata": {
    "collapsed": false
   },
   "outputs": [
    {
     "name": "stdout",
     "output_type": "stream",
     "text": [
      "2\n"
     ]
    }
   ],
   "source": [
    "from multiprocessing import cpu_count\n",
    "print cpu_count()"
   ]
  },
  {
   "cell_type": "markdown",
   "metadata": {},
   "source": [
    "To start an IPython cluster, use the following in the command line:\n",
    "\n",
    "ipcluster start -n 2\n",
    "\n",
    "It can also be started through the notebook GUI"
   ]
  },
  {
   "cell_type": "markdown",
   "metadata": {},
   "source": [
    "#### A nice way to delete empty string in a list"
   ]
  },
  {
   "cell_type": "code",
   "execution_count": 1,
   "metadata": {
    "collapsed": false
   },
   "outputs": [
    {
     "name": "stdout",
     "output_type": "stream",
     "text": [
      "['a', 'b']\n"
     ]
    }
   ],
   "source": [
    "str_list = ['a','b','']\n",
    "str_list = filter(None, str_list) # fastest\n",
    "str_list = filter(bool, str_list) # fastest\n",
    "str_list = filter(len, str_list)  # a bit of slower\n",
    "str_list = filter(lambda item: item, str_list) # slower than list comprehension\n",
    "print str_list"
   ]
  }
 ],
 "metadata": {
  "kernelspec": {
   "display_name": "Python 2",
   "language": "python",
   "name": "python2"
  },
  "language_info": {
   "codemirror_mode": {
    "name": "ipython",
    "version": 2
   },
   "file_extension": ".py",
   "mimetype": "text/x-python",
   "name": "python",
   "nbconvert_exporter": "python",
   "pygments_lexer": "ipython2",
   "version": "2.7.9"
  }
 },
 "nbformat": 4,
 "nbformat_minor": 0
}
